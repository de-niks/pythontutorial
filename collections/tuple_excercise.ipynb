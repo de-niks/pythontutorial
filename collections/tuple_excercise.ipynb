{
 "cells": [
  {
   "cell_type": "code",
   "execution_count": 1,
   "metadata": {},
   "outputs": [],
   "source": [
    "# Excercise 1 : Get list of integers from tuple\n",
    "\n",
    "t = (1, 'Foo','Bar', 2,1,2,3)"
   ]
  },
  {
   "cell_type": "code",
   "execution_count": 3,
   "metadata": {},
   "outputs": [
    {
     "name": "stdout",
     "output_type": "stream",
     "text": [
      "[1, 2, 1, 2, 3]\n"
     ]
    }
   ],
   "source": [
    "#create a list \n",
    "l=[]\n",
    "# for loop to iterate through each element\n",
    "for i in t:\n",
    "    if type(i) == int: #compare if its integer\n",
    "        l.append(i) #add it int the list\n",
    "print(l) #print"
   ]
  },
  {
   "cell_type": "code",
   "execution_count": 4,
   "metadata": {},
   "outputs": [
    {
     "name": "stdout",
     "output_type": "stream",
     "text": [
      "{1, 2, 3}\n"
     ]
    }
   ],
   "source": [
    "# Excercise 2  find all unique integers from tuple\n",
    "\n",
    "s = set()\n",
    "# for loop to iterate through each element\n",
    "for i in t:\n",
    "    if type(i) == int: #compare if its integer\n",
    "        s.add(i) #add it int the set\n",
    "print(s)\n"
   ]
  }
 ],
 "metadata": {
  "kernelspec": {
   "display_name": "Python 3",
   "language": "python",
   "name": "python3"
  },
  "language_info": {
   "codemirror_mode": {
    "name": "ipython",
    "version": 3
   },
   "file_extension": ".py",
   "mimetype": "text/x-python",
   "name": "python",
   "nbconvert_exporter": "python",
   "pygments_lexer": "ipython3",
   "version": "3.12.0"
  }
 },
 "nbformat": 4,
 "nbformat_minor": 2
}
