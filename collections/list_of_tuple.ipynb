{
 "cells": [
  {
   "cell_type": "code",
   "execution_count": 13,
   "metadata": {},
   "outputs": [],
   "source": [
    "#Data Set\n",
    "sales = [\n",
    "    (1, 101,500.00, 5),\n",
    "    (2, 102,300.00, 3),\n",
    "    (3, 101,100.50, 9),\n",
    "    (4, 104,900.00, 6),\n",
    "    (5, 104,100.00, 3),\n",
    "    (6, 104,1000.00, None),\n",
    "    (7, 103,300.00, -1),\n",
    "\n",
    "]"
   ]
  },
  {
   "cell_type": "code",
   "execution_count": 3,
   "metadata": {},
   "outputs": [
    {
     "data": {
      "text/plain": [
       "list"
      ]
     },
     "execution_count": 3,
     "metadata": {},
     "output_type": "execute_result"
    }
   ],
   "source": [
    "type(sales)"
   ]
  },
  {
   "cell_type": "code",
   "execution_count": 4,
   "metadata": {},
   "outputs": [
    {
     "data": {
      "text/plain": [
       "5"
      ]
     },
     "execution_count": 4,
     "metadata": {},
     "output_type": "execute_result"
    }
   ],
   "source": [
    "len(sales)"
   ]
  },
  {
   "cell_type": "code",
   "execution_count": 8,
   "metadata": {},
   "outputs": [
    {
     "data": {
      "text/plain": [
       "{101, 102, 104}"
      ]
     },
     "execution_count": 8,
     "metadata": {},
     "output_type": "execute_result"
    }
   ],
   "source": [
    "sales_rep_ids = set()\n",
    "for sale in sales:\n",
    "    sales_rep_ids.add(sale[1])\n",
    "\n",
    "sales_rep_ids"
   ]
  },
  {
   "cell_type": "code",
   "execution_count": 11,
   "metadata": {},
   "outputs": [],
   "source": [
    "def get_low_revenue(sales):\n",
    "    low_revenue_list = []\n",
    "    for sale in sales:\n",
    "        if sale[2] < 500:\n",
    "            low_revenue_list.append(sale)\n",
    "    print(low_revenue_list)"
   ]
  },
  {
   "cell_type": "code",
   "execution_count": 14,
   "metadata": {},
   "outputs": [
    {
     "name": "stdout",
     "output_type": "stream",
     "text": [
      "[(2, 102, 300.0, 3), (3, 101, 100.5, 9), (5, 104, 100.0, 3), (7, 103, 300.0, -1)]\n"
     ]
    }
   ],
   "source": [
    "get_low_revenue(sales)"
   ]
  },
  {
   "cell_type": "code",
   "execution_count": 19,
   "metadata": {},
   "outputs": [],
   "source": [
    "def get_invalid_commission(sales):\n",
    "    invalid_commission_list = []\n",
    "    for sale in sales:\n",
    "        if sale[3] is None or sale[3] < 0:\n",
    "            invalid_commission_list.append(sale)\n",
    "    print(invalid_commission_list)"
   ]
  },
  {
   "cell_type": "code",
   "execution_count": 20,
   "metadata": {},
   "outputs": [
    {
     "name": "stdout",
     "output_type": "stream",
     "text": [
      "[(6, 104, 1000.0, None), (7, 103, 300.0, -1)]\n"
     ]
    }
   ],
   "source": [
    "get_invalid_commission(sales)"
   ]
  }
 ],
 "metadata": {
  "kernelspec": {
   "display_name": "Python 3",
   "language": "python",
   "name": "python3"
  },
  "language_info": {
   "codemirror_mode": {
    "name": "ipython",
    "version": 3
   },
   "file_extension": ".py",
   "mimetype": "text/x-python",
   "name": "python",
   "nbconvert_exporter": "python",
   "pygments_lexer": "ipython3",
   "version": "3.12.0"
  }
 },
 "nbformat": 4,
 "nbformat_minor": 2
}
